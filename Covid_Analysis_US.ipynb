{
  "nbformat": 4,
  "nbformat_minor": 0,
  "metadata": {
    "colab": {
      "provenance": [],
      "toc_visible": true,
      "authorship_tag": "ABX9TyO78FjmuefQUWOT+ahl7/yM",
      "include_colab_link": true
    },
    "kernelspec": {
      "name": "python3",
      "display_name": "Python 3"
    },
    "language_info": {
      "name": "python"
    }
  },
  "cells": [
    {
      "cell_type": "markdown",
      "metadata": {
        "id": "view-in-github",
        "colab_type": "text"
      },
      "source": [
        "<a href=\"https://colab.research.google.com/github/BALAVIDULA/Covid_Analysis_using_Github_Codespace/blob/main/Covid_Analysis_US.ipynb\" target=\"_parent\"><img src=\"https://colab.research.google.com/assets/colab-badge.svg\" alt=\"Open In Colab\"/></a>"
      ]
    },
    {
      "cell_type": "markdown",
      "source": [
        "##Ingest"
      ],
      "metadata": {
        "id": "gujb3f0MVv8g"
      }
    },
    {
      "cell_type": "code",
      "source": [],
      "metadata": {
        "id": "QgxJgs_BVynx"
      },
      "execution_count": null,
      "outputs": []
    },
    {
      "cell_type": "markdown",
      "source": [
        "##EDA"
      ],
      "metadata": {
        "id": "d4ZnpITHV3dJ"
      }
    },
    {
      "cell_type": "code",
      "source": [],
      "metadata": {
        "id": "6_vaR5CEV4gu"
      },
      "execution_count": null,
      "outputs": []
    },
    {
      "cell_type": "markdown",
      "source": [
        "##Modeling"
      ],
      "metadata": {
        "id": "hFeOBNlEV_Xb"
      }
    },
    {
      "cell_type": "markdown",
      "source": [
        "###Classification Algorithm A"
      ],
      "metadata": {
        "id": "10K_WLCdXUD-"
      }
    },
    {
      "cell_type": "markdown",
      "source": [],
      "metadata": {
        "id": "phZeU0M-XYWc"
      }
    },
    {
      "cell_type": "markdown",
      "source": [
        "###Classification Algorithm B"
      ],
      "metadata": {
        "id": "s4nbw1dNXYqK"
      }
    },
    {
      "cell_type": "code",
      "source": [],
      "metadata": {
        "id": "IL-wGF7LWA2_"
      },
      "execution_count": null,
      "outputs": []
    },
    {
      "cell_type": "markdown",
      "source": [
        "##Conclusion"
      ],
      "metadata": {
        "id": "WfszJB6vWDg3"
      }
    },
    {
      "cell_type": "code",
      "source": [],
      "metadata": {
        "id": "OCP_-xY5WGGO"
      },
      "execution_count": null,
      "outputs": []
    }
  ]
}